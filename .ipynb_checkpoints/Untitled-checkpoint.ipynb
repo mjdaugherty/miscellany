{
 "cells": [
  {
   "cell_type": "code",
   "execution_count": 10,
   "metadata": {},
   "outputs": [],
   "source": [
    "alphabet = list(\"bzyvinqxlujgprsockdfehwmat\") # more comortable with making this a list for some reason\n",
    "\n",
    "female = list(\"rsp\") # no need for an explicit male list since male removal is no longer done\n",
    "\n",
    "low_value = [letter for letter in alphabet if alphabet.index(letter) < 9]\n",
    "high_value = [letter for letter in alphabet if alphabet.index(letter) >= 9]"
   ]
  },
  {
   "cell_type": "code",
   "execution_count": 11,
   "metadata": {},
   "outputs": [
    {
     "name": "stdout",
     "output_type": "stream",
     "text": [
      "['b', 'z', 'y', 'v', 'i', 'n', 'q', 'x', 'l']\n",
      "['u', 'j', 'g', 'p', 'r', 's', 'o', 'c', 'k', 'd', 'f', 'e', 'h', 'w', 'm', 'a', 't']\n"
     ]
    }
   ],
   "source": [
    "print(low_value)\n",
    "print(high_value)"
   ]
  },
  {
   "cell_type": "code",
   "execution_count": 12,
   "metadata": {},
   "outputs": [],
   "source": [
    "even_tier = [letter for letter in alphabet if (alphabet.index(letter) % 2) == 0]\n",
    "odd_tier = [letter for letter in alphabet if (alphabet.index(letter) % 2) != 0]"
   ]
  },
  {
   "cell_type": "code",
   "execution_count": 13,
   "metadata": {},
   "outputs": [
    {
     "data": {
      "text/plain": [
       "['b', 'y', 'i', 'q', 'l', 'j', 'p', 's', 'c', 'd', 'e', 'w', 'a']"
      ]
     },
     "execution_count": 13,
     "metadata": {},
     "output_type": "execute_result"
    }
   ],
   "source": [
    "even_tier"
   ]
  },
  {
   "cell_type": "code",
   "execution_count": null,
   "metadata": {},
   "outputs": [],
   "source": []
  }
 ],
 "metadata": {
  "kernelspec": {
   "display_name": "Python 3",
   "language": "python",
   "name": "python3"
  },
  "language_info": {
   "codemirror_mode": {
    "name": "ipython",
    "version": 3
   },
   "file_extension": ".py",
   "mimetype": "text/x-python",
   "name": "python",
   "nbconvert_exporter": "python",
   "pygments_lexer": "ipython3",
   "version": "3.6.9"
  }
 },
 "nbformat": 4,
 "nbformat_minor": 4
}
